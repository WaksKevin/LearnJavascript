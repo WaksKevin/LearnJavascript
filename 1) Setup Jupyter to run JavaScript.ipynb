{
 "cells": [
  {
   "attachments": {},
   "cell_type": "markdown",
   "metadata": {},
   "source": [
    "## [Install a JavaScript (Node.js) Kernel for use in Jupyter Notebooks](http://n-riesco.github.io/ijavascript/#installation)"
   ]
  },
  {
   "attachments": {},
   "cell_type": "markdown",
   "metadata": {},
   "source": [
    "- Open your terminal and set up **Node.js** and **Jupyter Notebook**"
   ]
  },
  {
   "cell_type": "markdown",
   "metadata": {},
   "source": [
    "`sudo apt update`"
   ]
  },
  {
   "cell_type": "markdown",
   "metadata": {},
   "source": [
    "`sudo apt install nodejs npm jupyter-notebook jupyter-client`"
   ]
  },
  {
   "attachments": {},
   "cell_type": "markdown",
   "metadata": {},
   "source": [
    "-  Install the ijavascript package, which provides a JavaScript kernel for Jupyter Notebook."
   ]
  },
  {
   "cell_type": "markdown",
   "metadata": {},
   "source": [
    "`sudo npm install -g ijavascript`"
   ]
  },
  {
   "attachments": {},
   "cell_type": "markdown",
   "metadata": {},
   "source": [
    "- Set up the ijavascript kernel."
   ]
  },
  {
   "cell_type": "markdown",
   "metadata": {},
   "source": [
    "`sudo ijsinstall --install=global`"
   ]
  },
  {
   "attachments": {},
   "cell_type": "markdown",
   "metadata": {},
   "source": [
    "- Now everything should be set up and you can run a notebook in your browser by typing `jupyter notebook` in your shell."
   ]
  },
  {
   "cell_type": "markdown",
   "metadata": {},
   "source": [
    "`jupyter notebook`"
   ]
  },
  {
   "attachments": {},
   "cell_type": "markdown",
   "metadata": {},
   "source": [
    "- Select your kernel - JavaScript (Node.js) -  so as to execute JavaScript code in the cells."
   ]
  },
  {
   "attachments": {},
   "cell_type": "markdown",
   "metadata": {},
   "source": [
    "## Extra Configurations that you might want to make on [WSL](https://learn.microsoft.com/en-us/windows/wsl/install)"
   ]
  },
  {
   "attachments": {},
   "cell_type": "markdown",
   "metadata": {},
   "source": [
    "- If you're working on WSL (Windows Subsystem for Linux), you might want to do some extra configurations on how a jupyter notebooks will be running. For example, I like to specifiy that running the `jupyter notebook` command should not open a browser, because it's in a WSL environment and no browser path is configured."
   ]
  },
  {
   "attachments": {},
   "cell_type": "markdown",
   "metadata": {},
   "source": [
    "- Generate a default Jupyter Notebook configuration file by running the following command:"
   ]
  },
  {
   "cell_type": "markdown",
   "metadata": {},
   "source": [
    "`jupyter notebook --generate-config`"
   ]
  },
  {
   "attachments": {},
   "cell_type": "markdown",
   "metadata": {},
   "source": [
    "- Open the configuration file in a text editor. You can use the following command to open it with the nano editor:"
   ]
  },
  {
   "cell_type": "markdown",
   "metadata": {},
   "source": [
    "`nano ~/.jupyter/jupyter_notebook_config.py`"
   ]
  },
  {
   "attachments": {},
   "cell_type": "markdown",
   "metadata": {},
   "source": [
    "- In the configuration file, search for the line that starts with `# c.NotebookApp.open_browser`. Uncomment the line by removing the leading #, and set it to `False`. For example:"
   ]
  },
  {
   "cell_type": "markdown",
   "metadata": {},
   "source": [
    "`c.NotebookApp.open_browser = False`"
   ]
  },
  {
   "attachments": {},
   "cell_type": "markdown",
   "metadata": {},
   "source": [
    "## Working with Jupyter Notebooks on [VS Code](https://code.visualstudio.com/)"
   ]
  },
  {
   "attachments": {},
   "cell_type": "markdown",
   "metadata": {},
   "source": [
    "\n",
    "- Let's say your working with Jupyter Notebooks in VS Code. You can run the command `jupyter notebook` in the integrated terminal to start the server. You'll be provided with a url. In VS Code, click on 'Select Kernel' to choose an existing Jupyter server, and enter the url."
   ]
  },
  {
   "attachments": {},
   "cell_type": "markdown",
   "metadata": {},
   "source": [
    "- If you don't want to always be generating different urls because of the random tokens, you might also want to set Jupyter Notebook to use a specific file path and token all the time. To do that, in the configuration file, search for the line that starts with `# c.NotebookApp.token`. Uncomment the line by removing the leading #, and set the desired token value. For example:"
   ]
  },
  {
   "cell_type": "markdown",
   "metadata": {},
   "source": [
    "`c.NotebookApp.token = 'your-token'`"
   ]
  },
  {
   "attachments": {},
   "cell_type": "markdown",
   "metadata": {},
   "source": [
    "- Save the configuration file and exit the text editor."
   ]
  },
  {
   "attachments": {},
   "cell_type": "markdown",
   "metadata": {},
   "source": [
    "- Now, whenever you start Jupyter Notebook, it will use the specified file path and token. Make sure to replace 'your-token' with an actual secure token of your choice."
   ]
  },
  {
   "attachments": {},
   "cell_type": "markdown",
   "metadata": {},
   "source": [
    "## Hello World"
   ]
  },
  {
   "attachments": {},
   "cell_type": "markdown",
   "metadata": {},
   "source": [
    "-  Basic program to **validate your development environment**."
   ]
  },
  {
   "cell_type": "code",
   "execution_count": 1,
   "metadata": {},
   "outputs": [
    {
     "name": "stdout",
     "output_type": "stream",
     "text": [
      "Hello, world!\n"
     ]
    }
   ],
   "source": [
    "console.log(\"Hello, world!\");"
   ]
  },
  {
   "cell_type": "code",
   "execution_count": null,
   "metadata": {},
   "outputs": [],
   "source": []
  }
 ],
 "metadata": {
  "kernelspec": {
   "display_name": "JavaScript (Node.js)",
   "language": "javascript",
   "name": "javascript"
  },
  "language_info": {
   "file_extension": ".js",
   "mimetype": "application/javascript",
   "name": "javascript",
   "version": "12.22.9"
  },
  "orig_nbformat": 4
 },
 "nbformat": 4,
 "nbformat_minor": 2
}
